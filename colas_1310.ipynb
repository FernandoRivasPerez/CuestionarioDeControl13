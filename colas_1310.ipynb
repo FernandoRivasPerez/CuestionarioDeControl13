{
  "nbformat": 4,
  "nbformat_minor": 0,
  "metadata": {
    "colab": {
      "name": "colas_1310.ipynb",
      "provenance": []
    },
    "kernelspec": {
      "name": "python3",
      "display_name": "Python 3"
    },
    "language_info": {
      "name": "python"
    }
  },
  "cells": [
    {
      "cell_type": "code",
      "metadata": {
        "id": "-a4XvrbFKPe6"
      },
      "source": [
        "class Queue:\n",
        "    def __init__( self ):\n",
        "        self.data = []\n",
        "    \n",
        "    def is_empty( self ):\n",
        "        return len( self.data ) == 0\n",
        "\n",
        "    def length( self ):\n",
        "        return len( self.data )\n",
        "\n",
        "    def enqueue( self , value ):\n",
        "        self.data.append( value )\n",
        "\n",
        "    def dequeue( self ):\n",
        "        return self.data.pop(0)\n",
        "\n",
        "    def to_string( self ):\n",
        "        for elem in self.data:\n",
        "            print(f\"|{ elem }| <-- \" , end=\"\" )\n",
        "        print(\"\")"
      ],
      "execution_count": 8,
      "outputs": []
    },
    {
      "cell_type": "code",
      "metadata": {
        "colab": {
          "base_uri": "https://localhost:8080/"
        },
        "id": "Wo0gM96iNgg_",
        "outputId": "04e27a6b-b599-44e4-cd26-9e793e0119b9"
      },
      "source": [
        "cola = Queue()\n",
        "print(\"¿Está vacío?: \", cola.is_empty())\n",
        "print(\"Numero de elementos = \", cola.length())\n",
        "cola.enqueue(10)\n",
        "cola.enqueue(20)\n",
        "cola.enqueue(30)\n",
        "print(\"¿Está vacío?: \", cola.is_empty())\n",
        "print(\"Numero de elementos = \", cola.length())\n",
        "cola.enqueue(40)\n",
        "cola.enqueue(50)\n",
        "cola.enqueue(60)\n",
        "cola.to_string()\n",
        "siguiente = cola.dequeue()\n",
        "print(\"Atendiendo a: \" , siguiente)\n",
        "cola.to_string()"
      ],
      "execution_count": 10,
      "outputs": [
        {
          "output_type": "stream",
          "name": "stdout",
          "text": [
            "¿Está vacío?:  True\n",
            "Numero de elementos =  0\n",
            "¿Está vacío?:  False\n",
            "Numero de elementos =  3\n",
            "|10| <-- |20| <-- |30| <-- |40| <-- |50| <-- |60| <-- \n",
            "Atendiendo a:  10\n",
            "|20| <-- |30| <-- |40| <-- |50| <-- |60| <-- \n"
          ]
        }
      ]
    },
    {
      "cell_type": "markdown",
      "metadata": {
        "id": "4MubaM6BQjF0"
      },
      "source": [
        "# Variantes del ADT Cola\n",
        "1. Circulares\n",
        "2. Prioridad\n",
        "    1. Acotada\n",
        "    2. No acotada\n"
      ]
    },
    {
      "cell_type": "code",
      "metadata": {
        "id": "w3EMGRuLUeGZ"
      },
      "source": [
        "class PriorityQueue:\n",
        "    "
      ],
      "execution_count": null,
      "outputs": []
    }
  ]
}